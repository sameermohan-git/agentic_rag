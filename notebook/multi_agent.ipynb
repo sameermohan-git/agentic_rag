{
 "cells": [
  {
   "cell_type": "code",
   "execution_count": 2,
   "metadata": {},
   "outputs": [
    {
     "name": "stdout",
     "output_type": "stream",
     "text": [
      "Collecting pandas\n",
      "  Downloading pandas-2.2.3-cp39-cp39-macosx_11_0_arm64.whl.metadata (89 kB)\n",
      "Requirement already satisfied: numpy>=1.22.4 in /Users/sameer-macair/PycharmProjects/agentic_rag/.venv/lib/python3.9/site-packages (from pandas) (1.26.4)\n",
      "Requirement already satisfied: python-dateutil>=2.8.2 in /Users/sameer-macair/PycharmProjects/agentic_rag/.venv/lib/python3.9/site-packages (from pandas) (2.9.0.post0)\n",
      "Collecting pytz>=2020.1 (from pandas)\n",
      "  Downloading pytz-2024.2-py2.py3-none-any.whl.metadata (22 kB)\n",
      "Collecting tzdata>=2022.7 (from pandas)\n",
      "  Downloading tzdata-2025.1-py2.py3-none-any.whl.metadata (1.4 kB)\n",
      "Requirement already satisfied: six>=1.5 in /Users/sameer-macair/PycharmProjects/agentic_rag/.venv/lib/python3.9/site-packages (from python-dateutil>=2.8.2->pandas) (1.17.0)\n",
      "Downloading pandas-2.2.3-cp39-cp39-macosx_11_0_arm64.whl (11.3 MB)\n",
      "\u001b[2K   \u001b[90m━━━━━━━━━━━━━━━━━━━━━━━━━━━━━━━━━━━━━━━━\u001b[0m \u001b[32m11.3/11.3 MB\u001b[0m \u001b[31m32.4 MB/s\u001b[0m eta \u001b[36m0:00:00\u001b[0m \u001b[36m0:00:01\u001b[0m\n",
      "\u001b[?25hDownloading pytz-2024.2-py2.py3-none-any.whl (508 kB)\n",
      "Downloading tzdata-2025.1-py2.py3-none-any.whl (346 kB)\n",
      "Installing collected packages: pytz, tzdata, pandas\n",
      "Successfully installed pandas-2.2.3 pytz-2024.2 tzdata-2025.1\n",
      "Note: you may need to restart the kernel to use updated packages.\n"
     ]
    }
   ],
   "source": [
    "pip install pandas"
   ]
  },
  {
   "cell_type": "code",
   "execution_count": 4,
   "metadata": {},
   "outputs": [],
   "source": [
    "import os\n",
    "import sqlite3\n",
    "import pandas as pd\n",
    "from langchain_openai import ChatOpenAI\n",
    "from langchain.agents import AgentType, Tool, initialize_agent\n",
    "from langchain_core.callbacks.stdout import StdOutCallbackHandler\n",
    "from langchain_core.messages import AnyMessage, HumanMessage, SystemMessage, ToolMessage\n",
    "from langchain.agents import ZeroShotAgent\n",
    "from langchain_openai import AzureChatOpenAI\n",
    "from langchain_community.agent_toolkits.sql.toolkit import SQLDatabaseToolkit\n",
    "from langgraph.prebuilt import create_react_agent\n",
    "from langchain_community.utilities.sql_database import SQLDatabase\n",
    "from sqlalchemy import create_engine\n",
    "from sqlalchemy.pool import StaticPool\n",
    "from langchain.agents import create_sql_agent\n",
    "from langchain.agents import create_structured_chat_agent\n",
    "from typing import List\n",
    "from langchain.agents import Tool, AgentExecutor, create_openai_tools_agent\n",
    "from langchain.tools.base import StructuredTool\n",
    "from langchain.agents import AgentExecutor, create_openai_tools_agent\n",
    "from langchain_core.messages import BaseMessage, HumanMessage\n",
    "from langchain_core.output_parsers.openai_functions import JsonOutputFunctionsParser\n",
    "from langchain_core.prompts import ChatPromptTemplate, MessagesPlaceholder\n",
    "import functools\n",
    "import operator\n",
    "from typing import Sequence, TypedDict, Annotated\n",
    "from langchain_core.prompts import ChatPromptTemplate, MessagesPlaceholder\n",
    "from langgraph.graph import END, StateGraph, START\n",
    "from typing import Union, Literal\n",
    "from pydantic import BaseModel"
   ]
  },
  {
   "cell_type": "code",
   "execution_count": 2,
   "metadata": {},
   "outputs": [],
   "source": [
    "import getpass\n",
    "\n",
    "def _set_env(key: str):\n",
    "    if key not in os.environ:\n",
    "        os.environ[key] = getpass.getpass(f\"{key}:\")\n",
    "\n",
    "\n",
    "_set_env(\"OPENAI_API_KEY\")"
   ]
  },
  {
   "cell_type": "code",
   "execution_count": 3,
   "metadata": {},
   "outputs": [
    {
     "name": "stdout",
     "output_type": "stream",
     "text": [
      "       RowNumber  CustomerID    Surname  CreditScore  Country  Gender  \\\n",
      "0            1.0  15634602.0   Hargrave        619.0   France  Female   \n",
      "1            2.0  15647311.0       Hill        608.0    Spain  Female   \n",
      "2            3.0  15619304.0       Onio        502.0   France  Female   \n",
      "3            4.0  15701354.0       Boni        699.0   France  Female   \n",
      "4            5.0  15737888.0   Mitchell        850.0    Spain  Female   \n",
      "...          ...         ...        ...          ...      ...     ...   \n",
      "9996      9997.0  15569892.0  Johnstone        516.0   France    Male   \n",
      "9997      9998.0  15584532.0        Liu        709.0   France  Female   \n",
      "9998      9999.0  15682355.0  Sabbatini        772.0  Germany    Male   \n",
      "9999     10000.0  15628319.0     Walker        792.0   France  Female   \n",
      "10000        NaN         NaN        NaN          NaN      NaN     NaN   \n",
      "\n",
      "       Married   Age  Dependents  NumBankAccts  ...  LifeInsurance  \\\n",
      "0          1.0  42.0         3.0           1.0  ...            1.0   \n",
      "1          1.0  41.0         2.0           1.0  ...            1.0   \n",
      "2          1.0  42.0         2.0           3.0  ...            0.0   \n",
      "3          1.0  39.0         0.0           2.0  ...            0.0   \n",
      "4          1.0  43.0         0.0           1.0  ...            1.0   \n",
      "...        ...   ...         ...           ...  ...            ...   \n",
      "9996       1.0  35.0         3.0           1.0  ...            1.0   \n",
      "9997       0.0  36.0         1.0           1.0  ...            1.0   \n",
      "9998       1.0  42.0         1.0           2.0  ...            0.0   \n",
      "9999       0.0  28.0         0.0           1.0  ...            0.0   \n",
      "10000      NaN   NaN         NaN           NaN  ...            NaN   \n",
      "\n",
      "       NumTransactions  LastTransactionDate  LastTransactionAmt  \\\n",
      "0                  5.0            1/27/2019              2095.3   \n",
      "1                  8.0            2/25/2019              9955.2   \n",
      "2                  3.0            11/5/2017              9123.1   \n",
      "3                  5.0             1/7/2019              5973.3   \n",
      "4                  2.0            3/28/2015              9834.4   \n",
      "...                ...                  ...                 ...   \n",
      "9996               1.0             4/7/2017               654.7   \n",
      "9997               8.0            8/11/2018              8673.2   \n",
      "9998               2.0            3/14/2018              9197.5   \n",
      "9999               7.0            8/20/2016              1978.4   \n",
      "10000              NaN                  NaN                 NaN   \n",
      "\n",
      "       ForeignAssets  NumProducts  Churn  Discount  Retention  CLV  \n",
      "0               0.39          4.0    0.0      0.21        NaN  NaN  \n",
      "1               0.21          1.0    0.0      0.50        NaN  NaN  \n",
      "2               0.00          5.0    1.0      0.37        NaN  NaN  \n",
      "3               0.40          5.0    0.0      0.72        NaN  NaN  \n",
      "4               0.13          4.0    0.0      0.26        NaN  NaN  \n",
      "...              ...          ...    ...       ...        ...  ...  \n",
      "9996            0.17          6.0    0.0      0.35        NaN  NaN  \n",
      "9997            0.43          6.0    1.0      0.59        NaN  NaN  \n",
      "9998            0.01          5.0    1.0      0.32        NaN  NaN  \n",
      "9999            0.00          6.0    0.0      0.29        NaN  NaN  \n",
      "10000            NaN          NaN    NaN       NaN        NaN  NaN  \n",
      "\n",
      "[10001 rows x 39 columns]\n"
     ]
    }
   ],
   "source": [
    "# Read CSV file into a pandas DataFrame\n",
    "csv_file_path = 'customers.csv'\n",
    "df = pd.read_csv(csv_file_path)\n",
    "\n",
    "# Display the DataFrame\n",
    "print(df)"
   ]
  },
  {
   "cell_type": "code",
   "execution_count": 5,
   "metadata": {},
   "outputs": [],
   "source": [
    "#  If the file doesn’t exist, SQLite will create it in the current working directory.\n",
    "conn = sqlite3.connect('consumption.db',check_same_thread=False)"
   ]
  },
  {
   "cell_type": "code",
   "execution_count": 6,
   "metadata": {},
   "outputs": [
    {
     "data": {
      "text/plain": [
       "10001"
      ]
     },
     "execution_count": 6,
     "metadata": {},
     "output_type": "execute_result"
    }
   ],
   "source": [
    "# Write the data to a sqlite table\n",
    "df.to_sql('consumption', conn, index=False, if_exists='replace')"
   ]
  },
  {
   "cell_type": "code",
   "execution_count": 13,
   "metadata": {},
   "outputs": [],
   "source": [
    "llm = ChatOpenAI(model= 'gpt-4o-mini', temperature=0.0)"
   ]
  },
  {
   "cell_type": "code",
   "execution_count": 14,
   "metadata": {},
   "outputs": [],
   "source": [
    "db=SQLDatabase.from_uri(\"sqlite:///consumption.db\")\n",
    "toolkit = SQLDatabaseToolkit(db=db, llm=llm)"
   ]
  },
  {
   "cell_type": "code",
   "execution_count": null,
   "metadata": {},
   "outputs": [
    {
     "ename": "NameError",
     "evalue": "name 'Create_react_agent' is not defined",
     "output_type": "error",
     "traceback": [
      "\u001b[0;31m---------------------------------------------------------------------------\u001b[0m",
      "\u001b[0;31mNameError\u001b[0m                                 Traceback (most recent call last)",
      "Cell \u001b[0;32mIn[17], line 1\u001b[0m\n\u001b[0;32m----> 1\u001b[0m sql_agent_executor \u001b[38;5;241m=\u001b[39m \u001b[43mCreate_react_agent\u001b[49m(llm,\n\u001b[1;32m      2\u001b[0m                                         tools\u001b[38;5;241m=\u001b[39mtoolkit\u001b[38;5;241m.\u001b[39mget_tools(),\n\u001b[1;32m      3\u001b[0m                                         state_modifier\u001b[38;5;241m=\u001b[39mMSSQL_AGENT_SUFFIX_WITH_MEMORY)\n",
      "\u001b[0;31mNameError\u001b[0m: name 'Create_react_agent' is not defined"
     ]
    }
   ],
   "source": [
    "sql_agent_executor = Create_react_agent(llm,\n",
    "                                        tools=toolkit.get_tools(),\n",
    "                                        state_modifier=MSSQL_AGENT_SUFFIX_WITH_MEMORY)"
   ]
  }
 ],
 "metadata": {
  "kernelspec": {
   "display_name": ".venv",
   "language": "python",
   "name": "python3"
  },
  "language_info": {
   "codemirror_mode": {
    "name": "ipython",
    "version": 3
   },
   "file_extension": ".py",
   "mimetype": "text/x-python",
   "name": "python",
   "nbconvert_exporter": "python",
   "pygments_lexer": "ipython3",
   "version": "3.9.6"
  }
 },
 "nbformat": 4,
 "nbformat_minor": 2
}
